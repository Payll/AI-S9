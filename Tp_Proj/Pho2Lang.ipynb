{
 "cells": [
  {
   "cell_type": "code",
   "outputs": [],
   "source": [
    "import pandas as pd\n",
    "from tensorflow.keras.preprocessing.text import Tokenizer\n",
    "from tensorflow.keras.preprocessing.sequence import pad_sequences\n",
    "from sklearn.preprocessing import LabelEncoder\n",
    "import ast\n",
    "from tensorflow.keras.models import Sequential\n",
    "from tensorflow.keras.layers import Embedding, LSTM, Dense\n",
    "from keras.src.callbacks import EarlyStopping\n",
    "from matplotlib import pyplot as plt"
   ],
   "metadata": {
    "collapsed": false,
    "ExecuteTime": {
     "end_time": "2024-01-30T11:58:20.988569Z",
     "start_time": "2024-01-30T11:58:20.779974Z"
    }
   },
   "id": "fe8b3443ff4abb98",
   "execution_count": 10
  },
  {
   "cell_type": "code",
   "outputs": [
    {
     "name": "stdout",
     "output_type": "stream",
     "text": [
      "cp: directory /content does not exist\r\n"
     ]
    }
   ],
   "source": [
    "!cp /content/drive/MyDrive/AI/Data/merged_data.csv /content/"
   ],
   "metadata": {
    "collapsed": false,
    "ExecuteTime": {
     "end_time": "2024-01-30T11:58:21.923483Z",
     "start_time": "2024-01-30T11:58:21.795596Z"
    }
   },
   "id": "5752cbe70841ac09",
   "execution_count": 11
  },
  {
   "cell_type": "markdown",
   "source": [
    "# Chargement des données\n",
    "Nous allons charger les données à partir du fichier CSV créer avec le modèle Word2Vec et les diviser en ensembles d'entraînement et de test. Nous allons également convertir les phonèmes en listes."
   ],
   "metadata": {
    "collapsed": false
   },
   "id": "7c46d4f33ee862a3"
  },
  {
   "cell_type": "code",
   "execution_count": 12,
   "id": "initial_id",
   "metadata": {
    "collapsed": true,
    "ExecuteTime": {
     "end_time": "2024-01-30T11:58:21.974185Z",
     "start_time": "2024-01-30T11:58:21.946951Z"
    }
   },
   "outputs": [
    {
     "name": "stdout",
     "output_type": "stream",
     "text": [
      "Training set size: 970, Testing set size: 243\n"
     ]
    }
   ],
   "source": [
    "onDrive = False\n",
    "if onDrive:\n",
    "    # Path to the CSV file\n",
    "    csv_file_path = 'merged_data.csv'\n",
    "else:\n",
    "    # Path to the CSV file\n",
    "    csv_file_path = './Data/merged_data.csv'\n",
    "\n",
    "# Load the DataFrame from the CSV file\n",
    "df_merged = pd.read_csv(csv_file_path)\n",
    "\n",
    "\n",
    "# Determine the split index\n",
    "split_index = int(0.8 * len(df_merged))\n",
    "\n",
    "# Split into training and testing datasets\n",
    "train_df = df_merged[:split_index]\n",
    "test_df = df_merged[split_index:]\n",
    "\n",
    "print(f\"Training set size: {len(train_df)}, Testing set size: {len(test_df)}\")"
   ]
  },
  {
   "cell_type": "code",
   "outputs": [
    {
     "name": "stdout",
     "output_type": "stream",
     "text": [
      "                                             phoneme language\n",
      "0  [t, t, h, h, e, y, y, |, |, s, s, s, [PAD], o,...  English\n",
      "1  [t, t, o, o, |, |, |, c, c, [PAD], e, e, l, l,...  English\n",
      "2  [t, t, h, h, e, e, |, |, |, |, b, [PAD], o, o,...  English\n",
      "3  [d, [PAD], o, o, [PAD], n, [PAD], o, u, w, [PA...   French\n",
      "4  [h, e, e, |, |, |, c, [PAD], m, m, [PAD], o, [...  English\n"
     ]
    }
   ],
   "source": [
    "def convertir_en_liste(chaine):\n",
    "    try:\n",
    "        # Convertit la chaîne en liste en utilisant ast.literal_eval\n",
    "        return ast.literal_eval(chaine)\n",
    "    except Exception as e:\n",
    "        # Gérer les exceptions si la conversion échoue\n",
    "        print(f\"Erreur de conversion : {e}\")\n",
    "        return []\n",
    "\n",
    "\n",
    "def reduire_pad(liste):\n",
    "    nouvelle_liste = []\n",
    "    for elem in liste:\n",
    "        if elem != \"[PAD]\" or (nouvelle_liste and nouvelle_liste[-1] != \"[PAD]\"):\n",
    "            nouvelle_liste.append(elem)\n",
    "    return nouvelle_liste\n",
    "\n",
    "\n",
    "# Appliquer la conversion et la réduction\n",
    "# Assurez-vous que train_df est une copie indépendante si c'est un sous-ensemble\n",
    "train_df = train_df.copy()\n",
    "\n",
    "# Appliquer la conversion et la réduction en utilisant .loc\n",
    "train_df.loc[:, 'phoneme'] = train_df['phoneme'].apply(lambda x: reduire_pad(convertir_en_liste(x)))\n",
    "\n",
    "# Afficher les premières lignes de train_df pour vérifier les changements\n",
    "print(train_df.head())"
   ],
   "metadata": {
    "collapsed": false,
    "ExecuteTime": {
     "end_time": "2024-01-30T11:58:22.492070Z",
     "start_time": "2024-01-30T11:58:22.120790Z"
    }
   },
   "id": "a790f55b298ad26d",
   "execution_count": 13
  },
  {
   "cell_type": "code",
   "outputs": [
    {
     "name": "stdout",
     "output_type": "stream",
     "text": [
      "                                               phoneme language\n",
      "970  [t, t, h, h, e, e, |, |, |, |, p, p, [PAD], a,...  English\n",
      "971  [t, h, e, e, e, x, [PAD], p, p, e, [PAD], d, [...   French\n",
      "972  [a, a, [PAD], |, |, y, y, o, o, u, u, |, |, |,...  English\n",
      "973  [t, t, [PAD], o, o, [PAD], v, [PAD], e, e, s, ...  English\n",
      "974  [w, h, h, a, t, |, |, d, o, o, e, [PAD], s, s,...  English\n"
     ]
    }
   ],
   "source": [
    "test_df = test_df.copy()\n",
    "\n",
    "# Appliquer la conversion et la réduction en utilisant .loc\n",
    "test_df.loc[:, 'phoneme'] = test_df['phoneme'].apply(lambda x: reduire_pad(convertir_en_liste(x)))\n",
    "\n",
    "# Afficher les premières lignes de train_df pour vérifier les changements\n",
    "print(test_df.head())"
   ],
   "metadata": {
    "collapsed": false,
    "ExecuteTime": {
     "end_time": "2024-01-30T11:58:22.593834Z",
     "start_time": "2024-01-30T11:58:22.515443Z"
    }
   },
   "id": "d68ccf6a7815e957",
   "execution_count": 14
  },
  {
   "cell_type": "markdown",
   "source": [
    "# Tokenisation et padding\n",
    "Dans cette section, nous allons convertir les phonèmes en séquences d'entiers et les rembourrer pour qu'ils aient tous la même longueur."
   ],
   "metadata": {
    "collapsed": false
   },
   "id": "7c72b0d02549fdd6"
  },
  {
   "cell_type": "code",
   "outputs": [],
   "source": [
    "train_df['language'] = train_df['language'].apply(lambda x: 0 if x == 'French' else 1)\n",
    "test_df['language'] = test_df['language'].apply(lambda x: 0 if x == 'French' else 1)\n",
    "\n",
    "# Ensuite, continuez avec la tokenisation et le padding comme avant\n",
    "phoneme_tokenizer = Tokenizer(char_level=False)\n",
    "phoneme_tokenizer.fit_on_texts(train_df['phoneme'])\n",
    "X_train = phoneme_tokenizer.texts_to_sequences(train_df['phoneme'])\n",
    "X_train = pad_sequences(X_train, padding='post')\n",
    "\n",
    "X_test = phoneme_tokenizer.texts_to_sequences(test_df['phoneme'])\n",
    "X_test = pad_sequences(X_test, padding='post', maxlen=X_train.shape[1])\n",
    "\n",
    "# Encode the language labels\n",
    "label_encoder = LabelEncoder()\n",
    "y_train = label_encoder.fit_transform(train_df['language'])\n",
    "y_test = label_encoder.transform(test_df['language'])"
   ],
   "metadata": {
    "collapsed": false,
    "ExecuteTime": {
     "end_time": "2024-01-30T11:58:22.659980Z",
     "start_time": "2024-01-30T11:58:22.613447Z"
    }
   },
   "id": "aa656821916029b3",
   "execution_count": 15
  },
  {
   "cell_type": "code",
   "outputs": [
    {
     "name": "stdout",
     "output_type": "stream",
     "text": [
      "                                               phoneme  language\n",
      "970  [t, t, h, h, e, e, |, |, |, |, p, p, [PAD], a,...         1\n",
      "971  [t, h, e, e, e, x, [PAD], p, p, e, [PAD], d, [...         0\n",
      "972  [a, a, [PAD], |, |, y, y, o, o, u, u, |, |, |,...         1\n",
      "973  [t, t, [PAD], o, o, [PAD], v, [PAD], e, e, s, ...         1\n",
      "974  [w, h, h, a, t, |, |, d, o, o, e, [PAD], s, s,...         1\n"
     ]
    }
   ],
   "source": [
    "print(test_df.head())"
   ],
   "metadata": {
    "collapsed": false,
    "ExecuteTime": {
     "end_time": "2024-01-30T11:58:22.665906Z",
     "start_time": "2024-01-30T11:58:22.663695Z"
    }
   },
   "id": "52f7289dbbb3955a",
   "execution_count": 16
  },
  {
   "cell_type": "code",
   "outputs": [
    {
     "name": "stdout",
     "output_type": "stream",
     "text": [
      "                                             phoneme  language\n",
      "0  [t, t, h, h, e, y, y, |, |, s, s, s, [PAD], o,...         1\n",
      "1  [t, t, o, o, |, |, |, c, c, [PAD], e, e, l, l,...         1\n",
      "2  [t, t, h, h, e, e, |, |, |, |, b, [PAD], o, o,...         1\n",
      "3  [d, [PAD], o, o, [PAD], n, [PAD], o, u, w, [PA...         0\n",
      "4  [h, e, e, |, |, |, c, [PAD], m, m, [PAD], o, [...         1\n"
     ]
    }
   ],
   "source": [
    "print(train_df.head())"
   ],
   "metadata": {
    "collapsed": false,
    "ExecuteTime": {
     "end_time": "2024-01-30T11:58:22.722531Z",
     "start_time": "2024-01-30T11:58:22.718816Z"
    }
   },
   "id": "ef26baef7f5dacac",
   "execution_count": 17
  },
  {
   "cell_type": "markdown",
   "source": [
    "# Création du modèle\n",
    "Nous allons maintenant créer le modèle RNN. Nous utiliserons un modèle LSTM bidirectionnel."
   ],
   "metadata": {
    "collapsed": false
   },
   "id": "69cf038fd9c18ea5"
  },
  {
   "cell_type": "code",
   "outputs": [
    {
     "name": "stdout",
     "output_type": "stream",
     "text": [
      "Model: \"sequential_2\"\n",
      "_________________________________________________________________\n",
      " Layer (type)                Output Shape              Param #   \n",
      "=================================================================\n",
      " embedding_2 (Embedding)     (None, 640, 1024)         30720     \n",
      "                                                                 \n",
      " lstm_4 (LSTM)               (None, 640, 2048)         25174016  \n",
      "                                                                 \n",
      " lstm_5 (LSTM)               (None, 128)               1114624   \n",
      "                                                                 \n",
      " dense_2 (Dense)             (None, 2)                 258       \n",
      "                                                                 \n",
      "=================================================================\n",
      "Total params: 26319618 (100.40 MB)\n",
      "Trainable params: 26319618 (100.40 MB)\n",
      "Non-trainable params: 0 (0.00 Byte)\n",
      "_________________________________________________________________\n"
     ]
    }
   ],
   "source": [
    "# Parameters for the model\n",
    "vocab_size = len(phoneme_tokenizer.word_index) + 1  # Vocabulary size\n",
    "embed_dim = 1024  # Dimension of the embedding vectors\n",
    "max_length = X_train.shape[1]  # Maximum length of the input sequences\n",
    "output_dim = len(label_encoder.classes_)  # Number of unique output classes\n",
    "\n",
    "# Define the RNN model\n",
    "model = Sequential([\n",
    "    Embedding(input_dim=vocab_size, output_dim=embed_dim, input_length=max_length),\n",
    "    LSTM(units=2048, dropout=0.2, recurrent_dropout=0.2, return_sequences=True),\n",
    "    LSTM(units=128, dropout=0.2, recurrent_dropout=0.2),\n",
    "    Dense(output_dim, activation='softmax')\n",
    "])\n",
    "\n",
    "# Compile the model\n",
    "model.compile(optimizer='adam', loss='sparse_categorical_crossentropy', metrics=['accuracy'])\n",
    "\n",
    "# Model summary\n",
    "model.summary()"
   ],
   "metadata": {
    "collapsed": false,
    "ExecuteTime": {
     "end_time": "2024-01-30T12:20:41.600213Z",
     "start_time": "2024-01-30T12:20:36.810125Z"
    }
   },
   "id": "adc4f48e290621f8",
   "execution_count": 21
  },
  {
   "cell_type": "markdown",
   "source": [
    "# Entraînement du modèle et évaluation\n",
    "Nous allons maintenant entraîner le modèle et évaluer ses performances."
   ],
   "metadata": {
    "collapsed": false
   },
   "id": "d46e5ad5b1931466"
  },
  {
   "cell_type": "code",
   "outputs": [
    {
     "name": "stdout",
     "output_type": "stream",
     "text": [
      "Epoch 1/150\n",
      "31/31 [==============================] - 846s 27s/step - loss: 0.7451 - accuracy: 0.5155 - val_loss: 0.6972 - val_accuracy: 0.4733\n",
      "Epoch 2/150\n",
      "31/31 [==============================] - 850s 27s/step - loss: 0.7021 - accuracy: 0.5093 - val_loss: 0.6976 - val_accuracy: 0.5226\n",
      "Epoch 3/150\n",
      "31/31 [==============================] - 852s 28s/step - loss: 0.6942 - accuracy: 0.5309 - val_loss: 0.6917 - val_accuracy: 0.5267\n",
      "Epoch 4/150\n",
      "31/31 [==============================] - 847s 27s/step - loss: 0.7148 - accuracy: 0.4887 - val_loss: 0.7225 - val_accuracy: 0.4733\n",
      "Epoch 5/150\n",
      "31/31 [==============================] - 855s 28s/step - loss: 0.6983 - accuracy: 0.4948 - val_loss: 0.7034 - val_accuracy: 0.4733\n",
      "Epoch 6/150\n",
      "31/31 [==============================] - 821s 26s/step - loss: 0.6930 - accuracy: 0.5227 - val_loss: 0.6939 - val_accuracy: 0.4733\n",
      "Epoch 7/150\n",
      "31/31 [==============================] - 837s 27s/step - loss: 0.6930 - accuracy: 0.5227 - val_loss: 0.6964 - val_accuracy: 0.4733\n",
      "Epoch 8/150\n",
      "31/31 [==============================] - ETA: 0s - loss: 0.6926 - accuracy: 0.5227 Restoring model weights from the end of the best epoch: 3.\n",
      "31/31 [==============================] - 794s 26s/step - loss: 0.6926 - accuracy: 0.5227 - val_loss: 0.6971 - val_accuracy: 0.4733\n",
      "Epoch 8: early stopping\n"
     ]
    },
    {
     "data": {
      "text/plain": "<Figure size 1200x400 with 2 Axes>",
      "image/png": "[encoded data removed]"
     },
     "metadata": {},
     "output_type": "display_data"
    }
   ],
   "source": [
    "early_stopping = EarlyStopping(monitor='val_accuracy', patience=5, verbose=1, mode='max', restore_best_weights=True)\n",
    "\n",
    "# Train the model\n",
    "history = model.fit(X_train, y_train, epochs=150, validation_data=(X_test, y_test), batch_size=32,\n",
    "                    callbacks=[early_stopping])\n",
    "\n",
    "# Préparation de la gamme des époques pour le tracé.\n",
    "epochs_range = range(1, len(history.history['accuracy']) + 1)\n",
    "\n",
    "# Configuration de la taille et du layout des graphiques.\n",
    "plt.figure(figsize=(12, 4))\n",
    "\n",
    "# Tracé de la perte d'entraînement et de validation.\n",
    "plt.subplot(1, 2, 1)\n",
    "plt.plot(epochs_range, history.history['loss'], label='Training Loss')\n",
    "plt.plot(epochs_range, history.history['val_loss'], label='Validation Loss')\n",
    "plt.title('Loss')\n",
    "plt.legend()\n",
    "\n",
    "# Tracé de la précision d'entraînement et de validation.\n",
    "plt.subplot(1, 2, 2)\n",
    "plt.plot(epochs_range, history.history['accuracy'], label='Training Accuracy')\n",
    "plt.plot(epochs_range, history.history['val_accuracy'], label='Validation Accuracy')\n",
    "plt.title('Accuracy')\n",
    "plt.legend()\n",
    "\n",
    "# Affichage des graphiques.\n",
    "plt.tight_layout()\n",
    "plt.show()"
   ],
   "metadata": {
    "collapsed": false,
    "ExecuteTime": {
     "end_time": "2024-01-30T14:12:24.821619Z",
     "start_time": "2024-01-30T12:20:41.606186Z"
    }
   },
   "id": "d0d2d61e5e9599cc",
   "execution_count": 22
  },
  {
   "cell_type": "code",
   "outputs": [
    {
     "name": "stdout",
     "output_type": "stream",
     "text": [
      "8/8 [==============================] - 42s 5s/step - loss: 0.6917 - accuracy: 0.5267\n",
      "Test Accuracy: 0.5267489552497864\n"
     ]
    }
   ],
   "source": [
    "# Evaluate the model on the test set\n",
    "loss, accuracy = model.evaluate(X_test, y_test)\n",
    "print(f'Test Accuracy: {accuracy}')"
   ],
   "metadata": {
    "collapsed": false,
    "ExecuteTime": {
     "end_time": "2024-01-30T14:13:07.074410Z",
     "start_time": "2024-01-30T14:12:24.821945Z"
    }
   },
   "id": "7ad6131f79a64c5d",
   "execution_count": 23
  },
  {
   "cell_type": "code",
   "outputs": [],
   "source": [],
   "metadata": {
    "collapsed": false,
    "ExecuteTime": {
     "end_time": "2024-01-30T12:12:20.975615Z",
     "start_time": "2024-01-30T12:12:20.973322Z"
    }
   },
   "id": "a318366eac7341c0",
   "execution_count": 20
  },
  {
   "cell_type": "code",
   "outputs": [],
   "source": [
    "   "
   ],
   "metadata": {
    "collapsed": false
   },
   "id": "a353837824cc1389"
  }
 ],
 "metadata": {
  "kernelspec": {
   "display_name": "Python 3",
   "language": "python",
   "name": "python3"
  },
  "language_info": {
   "codemirror_mode": {
    "name": "ipython",
    "version": 2
   },
   "file_extension": ".py",
   "mimetype": "text/x-python",
   "name": "python",
   "nbconvert_exporter": "python",
   "pygments_lexer": "ipython2",
   "version": "2.7.6"
  }
 },
 "nbformat": 4,
 "nbformat_minor": 5
}
